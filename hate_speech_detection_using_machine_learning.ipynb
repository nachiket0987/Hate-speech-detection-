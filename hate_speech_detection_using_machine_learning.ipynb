{
  "cells": [
    {
      "cell_type": "markdown",
      "id": "6c482d4a",
      "metadata": {
        "papermill": {
          "duration": 0.009266,
          "end_time": "2024-05-08T18:33:23.350172",
          "exception": false,
          "start_time": "2024-05-08T18:33:23.340906",
          "status": "completed"
        },
        "tags": [],
        "id": "6c482d4a"
      },
      "source": [
        "# <span style=\"font-family:Verdana ; color:red; font-size:36px; font-weight:bold; font-style:italic\">Hate Speech Detection Using Machine Learning</span>"
      ]
    },
    {
      "cell_type": "markdown",
      "id": "d0bb2b6a",
      "metadata": {
        "papermill": {
          "duration": 0.009431,
          "end_time": "2024-05-08T18:33:23.368940",
          "exception": false,
          "start_time": "2024-05-08T18:33:23.359509",
          "status": "completed"
        },
        "tags": [],
        "id": "d0bb2b6a"
      },
      "source": [
        "# <span style=\"font-family:Verdana ; color:green; font-size:26px; font-weight:bold; font-style:italic\">1. Importing Necessary Packages</span>"
      ]
    },
    {
      "cell_type": "code",
      "execution_count": null,
      "id": "ba1d40fd",
      "metadata": {
        "execution": {
          "iopub.execute_input": "2024-05-08T18:33:23.390833Z",
          "iopub.status.busy": "2024-05-08T18:33:23.389756Z",
          "iopub.status.idle": "2024-05-08T18:33:25.235910Z",
          "shell.execute_reply": "2024-05-08T18:33:25.234914Z"
        },
        "papermill": {
          "duration": 1.860348,
          "end_time": "2024-05-08T18:33:25.238675",
          "exception": false,
          "start_time": "2024-05-08T18:33:23.378327",
          "status": "completed"
        },
        "tags": [],
        "id": "ba1d40fd"
      },
      "outputs": [],
      "source": [
        "# importing the necessary libraries\n",
        "\n",
        "import pandas as pd\n",
        "import numpy as np\n",
        "import nltk\n",
        "import re\n",
        "import string\n",
        "from sklearn.feature_extraction.text import CountVectorizer\n",
        "from sklearn.model_selection import train_test_split\n",
        "from sklearn.tree import DecisionTreeClassifier\n",
        "from nltk.corpus import stopwords\n",
        "from nltk.stem import PorterStemmer"
      ]
    },
    {
      "cell_type": "code",
      "execution_count": null,
      "id": "200fdf75",
      "metadata": {
        "execution": {
          "iopub.execute_input": "2024-05-08T18:33:25.262290Z",
          "iopub.status.busy": "2024-05-08T18:33:25.261655Z",
          "iopub.status.idle": "2024-05-08T18:33:25.593334Z",
          "shell.execute_reply": "2024-05-08T18:33:25.592279Z"
        },
        "papermill": {
          "duration": 0.34495,
          "end_time": "2024-05-08T18:33:25.595657",
          "exception": false,
          "start_time": "2024-05-08T18:33:25.250707",
          "status": "completed"
        },
        "tags": [],
        "colab": {
          "base_uri": "https://localhost:8080/"
        },
        "id": "200fdf75",
        "outputId": "e1ac9a58-088b-4dba-b850-8f91e7d7cb8d"
      },
      "outputs": [
        {
          "output_type": "stream",
          "name": "stderr",
          "text": [
            "[nltk_data] Downloading package stopwords to /root/nltk_data...\n",
            "[nltk_data]   Package stopwords is already up-to-date!\n",
            "[nltk_data] Downloading package punkt to /root/nltk_data...\n",
            "[nltk_data]   Package punkt is already up-to-date!\n"
          ]
        },
        {
          "output_type": "execute_result",
          "data": {
            "text/plain": [
              "True"
            ]
          },
          "metadata": {},
          "execution_count": 23
        }
      ],
      "source": [
        "# Download stopwords and punkt (for word tokenization)\n",
        "nltk.download('stopwords')\n",
        "nltk.download('punkt')"
      ]
    },
    {
      "cell_type": "markdown",
      "id": "0a963147",
      "metadata": {
        "papermill": {
          "duration": 0.009676,
          "end_time": "2024-05-08T18:33:25.615547",
          "exception": false,
          "start_time": "2024-05-08T18:33:25.605871",
          "status": "completed"
        },
        "tags": [],
        "id": "0a963147"
      },
      "source": [
        "# <span style=\"font-family:Verdana ; color:green; font-size:26px; font-weight:bold; font-style:italic\">2. Importing the Dataset</span>"
      ]
    },
    {
      "cell_type": "code",
      "execution_count": null,
      "id": "20908746",
      "metadata": {
        "execution": {
          "iopub.execute_input": "2024-05-08T18:33:25.637042Z",
          "iopub.status.busy": "2024-05-08T18:33:25.636655Z",
          "iopub.status.idle": "2024-05-08T18:33:25.737798Z",
          "shell.execute_reply": "2024-05-08T18:33:25.736686Z"
        },
        "papermill": {
          "duration": 0.11491,
          "end_time": "2024-05-08T18:33:25.740213",
          "exception": false,
          "start_time": "2024-05-08T18:33:25.625303",
          "status": "completed"
        },
        "tags": [],
        "colab": {
          "base_uri": "https://localhost:8080/"
        },
        "id": "20908746",
        "outputId": "b72a1b01-fb35-42b2-c29b-dd3fa8bc1835"
      },
      "outputs": [
        {
          "output_type": "stream",
          "name": "stdout",
          "text": [
            "   count  hate_speech_count  offensive_language_count  neither_count  class  \\\n",
            "0      3                  0                         0              3      2   \n",
            "1      3                  0                         3              0      1   \n",
            "2      3                  0                         3              0      1   \n",
            "3      3                  0                         2              1      1   \n",
            "4      6                  0                         6              0      1   \n",
            "5      3                  1                         2              0      1   \n",
            "6      3                  0                         3              0      1   \n",
            "7      3                  0                         3              0      1   \n",
            "8      3                  0                         3              0      1   \n",
            "9      3                  1                         2              0      1   \n",
            "\n",
            "                                               tweet  \n",
            "0  !!! RT @mayasolovely: As a woman you shouldn't...  \n",
            "1  !!!!! RT @mleew17: boy dats cold...tyga dwn ba...  \n",
            "2  !!!!!!! RT @UrKindOfBrand Dawg!!!! RT @80sbaby...  \n",
            "3  !!!!!!!!! RT @C_G_Anderson: @viva_based she lo...  \n",
            "4  !!!!!!!!!!!!! RT @ShenikaRoberts: The shit you...  \n",
            "5  !!!!!!!!!!!!!!!!!!\"@T_Madison_x: The shit just...  \n",
            "6  !!!!!!\"@__BrighterDays: I can not just sit up ...  \n",
            "7  !!!!&#8220;@selfiequeenbri: cause I'm tired of...  \n",
            "8  \" &amp; you might not get ya bitch back &amp; ...  \n",
            "9  \" @rhythmixx_ :hobbies include: fighting Maria...  \n"
          ]
        }
      ],
      "source": [
        "# loading the dataset\n",
        "\n",
        "df = pd.read_csv('/content/train.csv')\n",
        "print(df.head(10))"
      ]
    },
    {
      "cell_type": "markdown",
      "id": "18e81e4c",
      "metadata": {
        "papermill": {
          "duration": 0.009988,
          "end_time": "2024-05-08T18:33:25.760633",
          "exception": false,
          "start_time": "2024-05-08T18:33:25.750645",
          "status": "completed"
        },
        "tags": [],
        "id": "18e81e4c"
      },
      "source": [
        "# <span style=\"font-family:Verdana ; color:green; font-size:26px; font-weight:bold; font-style:italic\">3. Map the Columns for Hate Speech</span>"
      ]
    },
    {
      "cell_type": "code",
      "execution_count": null,
      "id": "e750aad3",
      "metadata": {
        "execution": {
          "iopub.execute_input": "2024-05-08T18:33:25.783857Z",
          "iopub.status.busy": "2024-05-08T18:33:25.782670Z",
          "iopub.status.idle": "2024-05-08T18:33:25.801022Z",
          "shell.execute_reply": "2024-05-08T18:33:25.799755Z"
        },
        "papermill": {
          "duration": 0.032199,
          "end_time": "2024-05-08T18:33:25.803143",
          "exception": false,
          "start_time": "2024-05-08T18:33:25.770944",
          "status": "completed"
        },
        "tags": [],
        "colab": {
          "base_uri": "https://localhost:8080/"
        },
        "id": "e750aad3",
        "outputId": "1794de0c-df50-4e43-f569-26dfefa4e760"
      },
      "outputs": [
        {
          "output_type": "stream",
          "name": "stdout",
          "text": [
            "   count  hate_speech_count  offensive_language_count  neither_count  class  \\\n",
            "0      3                  0                         0              3      2   \n",
            "1      3                  0                         3              0      1   \n",
            "2      3                  0                         3              0      1   \n",
            "3      3                  0                         2              1      1   \n",
            "4      6                  0                         6              0      1   \n",
            "5      3                  1                         2              0      1   \n",
            "6      3                  0                         3              0      1   \n",
            "7      3                  0                         3              0      1   \n",
            "8      3                  0                         3              0      1   \n",
            "9      3                  1                         2              0      1   \n",
            "\n",
            "                                               tweet              labels  \n",
            "0  !!! RT @mayasolovely: As a woman you shouldn't...              Normal  \n",
            "1  !!!!! RT @mleew17: boy dats cold...tyga dwn ba...  Offensive Language  \n",
            "2  !!!!!!! RT @UrKindOfBrand Dawg!!!! RT @80sbaby...  Offensive Language  \n",
            "3  !!!!!!!!! RT @C_G_Anderson: @viva_based she lo...  Offensive Language  \n",
            "4  !!!!!!!!!!!!! RT @ShenikaRoberts: The shit you...  Offensive Language  \n",
            "5  !!!!!!!!!!!!!!!!!!\"@T_Madison_x: The shit just...  Offensive Language  \n",
            "6  !!!!!!\"@__BrighterDays: I can not just sit up ...  Offensive Language  \n",
            "7  !!!!&#8220;@selfiequeenbri: cause I'm tired of...  Offensive Language  \n",
            "8  \" &amp; you might not get ya bitch back &amp; ...  Offensive Language  \n",
            "9  \" @rhythmixx_ :hobbies include: fighting Maria...  Offensive Language  \n"
          ]
        }
      ],
      "source": [
        "df['labels'] = df['class'].map({0: 'Hate Speech', 1: 'Offensive Language', 2: 'Normal'})\n",
        "print(df.head(10))"
      ]
    },
    {
      "cell_type": "markdown",
      "id": "9227f19b",
      "metadata": {
        "papermill": {
          "duration": 0.009938,
          "end_time": "2024-05-08T18:33:25.823373",
          "exception": false,
          "start_time": "2024-05-08T18:33:25.813435",
          "status": "completed"
        },
        "tags": [],
        "id": "9227f19b"
      },
      "source": [
        "# <span style=\"font-family:Verdana; color:green; font-size:26px; font-weight:bold; font-style:italic;\">4. Splitting the Columns</span>"
      ]
    },
    {
      "cell_type": "code",
      "execution_count": null,
      "id": "901fa932",
      "metadata": {
        "execution": {
          "iopub.execute_input": "2024-05-08T18:33:25.846250Z",
          "iopub.status.busy": "2024-05-08T18:33:25.844979Z",
          "iopub.status.idle": "2024-05-08T18:33:25.858490Z",
          "shell.execute_reply": "2024-05-08T18:33:25.857315Z"
        },
        "papermill": {
          "duration": 0.027194,
          "end_time": "2024-05-08T18:33:25.860614",
          "exception": false,
          "start_time": "2024-05-08T18:33:25.833420",
          "status": "completed"
        },
        "tags": [],
        "colab": {
          "base_uri": "https://localhost:8080/"
        },
        "id": "901fa932",
        "outputId": "59582710-136e-4c40-a12e-83bfb6d89dbe"
      },
      "outputs": [
        {
          "output_type": "stream",
          "name": "stdout",
          "text": [
            "                                               tweet              labels\n",
            "0  !!! RT @mayasolovely: As a woman you shouldn't...              Normal\n",
            "1  !!!!! RT @mleew17: boy dats cold...tyga dwn ba...  Offensive Language\n",
            "2  !!!!!!! RT @UrKindOfBrand Dawg!!!! RT @80sbaby...  Offensive Language\n",
            "3  !!!!!!!!! RT @C_G_Anderson: @viva_based she lo...  Offensive Language\n",
            "4  !!!!!!!!!!!!! RT @ShenikaRoberts: The shit you...  Offensive Language\n"
          ]
        }
      ],
      "source": [
        "#splitting the columns\n",
        "df = df[['tweet', 'labels']]\n",
        "print(df.head())"
      ]
    },
    {
      "cell_type": "markdown",
      "id": "1fe50534",
      "metadata": {
        "papermill": {
          "duration": 0.009929,
          "end_time": "2024-05-08T18:33:25.881049",
          "exception": false,
          "start_time": "2024-05-08T18:33:25.871120",
          "status": "completed"
        },
        "tags": [],
        "id": "1fe50534"
      },
      "source": [
        "# <span style=\"font-family:Verdana; color:green; font-size:26px; font-weight:bold; font-style:italic;\">5. Cleaning The Sentence in Dataset</span>"
      ]
    },
    {
      "cell_type": "code",
      "execution_count": null,
      "id": "86506a8a",
      "metadata": {
        "execution": {
          "iopub.execute_input": "2024-05-08T18:33:25.903460Z",
          "iopub.status.busy": "2024-05-08T18:33:25.902578Z",
          "iopub.status.idle": "2024-05-08T18:33:35.015191Z",
          "shell.execute_reply": "2024-05-08T18:33:35.014166Z"
        },
        "papermill": {
          "duration": 9.126764,
          "end_time": "2024-05-08T18:33:35.017892",
          "exception": false,
          "start_time": "2024-05-08T18:33:25.891128",
          "status": "completed"
        },
        "tags": [],
        "id": "86506a8a"
      },
      "outputs": [],
      "source": [
        "# cleaning the text\n",
        "\n",
        "stemmer = PorterStemmer()\n",
        "stopwords = stopwords.words('english')\n",
        "\n",
        "def clean(text):\n",
        "    text = str(text).lower()\n",
        "    text = re.sub('\\[.*?\\]', '', text)\n",
        "    text = re.sub('https?://\\S+|www\\.\\S+', '', text)\n",
        "    text = re.sub('<.*?>+', '', text)\n",
        "    text = re.sub('[%s]' % re.escape(string.punctuation), '', text)\n",
        "    text = re.sub('\\n', '', text)\n",
        "    text = re.sub('\\w*\\d\\w*', '', text)\n",
        "    text = [word for word in text.split(' ') if word not in stopwords]\n",
        "    text = ' '.join(text)\n",
        "    text = [stemmer.stem(word) for word in text.split(' ')]\n",
        "    text = ' '.join(text)\n",
        "    return text\n",
        "\n",
        "df['tweet'] = df['tweet'].apply(clean)"
      ]
    },
    {
      "cell_type": "markdown",
      "id": "3181d27a",
      "metadata": {
        "papermill": {
          "duration": 0.009923,
          "end_time": "2024-05-08T18:33:35.038554",
          "exception": false,
          "start_time": "2024-05-08T18:33:35.028631",
          "status": "completed"
        },
        "tags": [],
        "id": "3181d27a"
      },
      "source": [
        "# <span style=\"font-family:Verdana; color:green; font-size:26px; font-weight:bold; font-style:italic;\">6. Train Dataset Using Decision Tree Classifier</span>"
      ]
    },
    {
      "cell_type": "code",
      "execution_count": null,
      "id": "139e183e",
      "metadata": {
        "execution": {
          "iopub.execute_input": "2024-05-08T18:33:35.060586Z",
          "iopub.status.busy": "2024-05-08T18:33:35.060212Z",
          "iopub.status.idle": "2024-05-08T18:33:35.072221Z",
          "shell.execute_reply": "2024-05-08T18:33:35.071444Z"
        },
        "papermill": {
          "duration": 0.025771,
          "end_time": "2024-05-08T18:33:35.074369",
          "exception": false,
          "start_time": "2024-05-08T18:33:35.048598",
          "status": "completed"
        },
        "tags": [],
        "id": "139e183e"
      },
      "outputs": [],
      "source": [
        "# split data into train, validation, and test sets\n",
        "X = np.array(df['tweet'])\n",
        "y = np.array(df['labels'])\n",
        "\n",
        "X_train, X_test, y_train, y_test = train_test_split(X, y, test_size=0.2, random_state=42)\n",
        "X_train, X_val, y_train, y_val = train_test_split(X_train, y_train, test_size=0.25, random_state=42)"
      ]
    },
    {
      "cell_type": "code",
      "execution_count": null,
      "id": "da03d1c7",
      "metadata": {
        "execution": {
          "iopub.execute_input": "2024-05-08T18:33:35.097356Z",
          "iopub.status.busy": "2024-05-08T18:33:35.096800Z",
          "iopub.status.idle": "2024-05-08T18:33:35.503303Z",
          "shell.execute_reply": "2024-05-08T18:33:35.502246Z"
        },
        "papermill": {
          "duration": 0.421254,
          "end_time": "2024-05-08T18:33:35.506063",
          "exception": false,
          "start_time": "2024-05-08T18:33:35.084809",
          "status": "completed"
        },
        "tags": [],
        "id": "da03d1c7"
      },
      "outputs": [],
      "source": [
        "# Vectorize text data\n",
        "cv = CountVectorizer()\n",
        "X_train = cv.fit_transform(X_train)\n",
        "X_val = cv.transform(X_val)\n",
        "X_test = cv.transform(X_test)"
      ]
    },
    {
      "cell_type": "code",
      "execution_count": null,
      "id": "4294eef5",
      "metadata": {
        "execution": {
          "iopub.execute_input": "2024-05-08T18:33:35.528379Z",
          "iopub.status.busy": "2024-05-08T18:33:35.527669Z",
          "iopub.status.idle": "2024-05-08T18:33:37.487434Z",
          "shell.execute_reply": "2024-05-08T18:33:37.486461Z"
        },
        "papermill": {
          "duration": 1.974274,
          "end_time": "2024-05-08T18:33:37.490457",
          "exception": false,
          "start_time": "2024-05-08T18:33:35.516183",
          "status": "completed"
        },
        "tags": [],
        "colab": {
          "base_uri": "https://localhost:8080/",
          "height": 74
        },
        "id": "4294eef5",
        "outputId": "9f135302-6cc2-4413-b61b-24da1ccae1ec"
      },
      "outputs": [
        {
          "output_type": "execute_result",
          "data": {
            "text/plain": [
              "DecisionTreeClassifier()"
            ],
            "text/html": [
              "<style>#sk-container-id-2 {color: black;background-color: white;}#sk-container-id-2 pre{padding: 0;}#sk-container-id-2 div.sk-toggleable {background-color: white;}#sk-container-id-2 label.sk-toggleable__label {cursor: pointer;display: block;width: 100%;margin-bottom: 0;padding: 0.3em;box-sizing: border-box;text-align: center;}#sk-container-id-2 label.sk-toggleable__label-arrow:before {content: \"▸\";float: left;margin-right: 0.25em;color: #696969;}#sk-container-id-2 label.sk-toggleable__label-arrow:hover:before {color: black;}#sk-container-id-2 div.sk-estimator:hover label.sk-toggleable__label-arrow:before {color: black;}#sk-container-id-2 div.sk-toggleable__content {max-height: 0;max-width: 0;overflow: hidden;text-align: left;background-color: #f0f8ff;}#sk-container-id-2 div.sk-toggleable__content pre {margin: 0.2em;color: black;border-radius: 0.25em;background-color: #f0f8ff;}#sk-container-id-2 input.sk-toggleable__control:checked~div.sk-toggleable__content {max-height: 200px;max-width: 100%;overflow: auto;}#sk-container-id-2 input.sk-toggleable__control:checked~label.sk-toggleable__label-arrow:before {content: \"▾\";}#sk-container-id-2 div.sk-estimator input.sk-toggleable__control:checked~label.sk-toggleable__label {background-color: #d4ebff;}#sk-container-id-2 div.sk-label input.sk-toggleable__control:checked~label.sk-toggleable__label {background-color: #d4ebff;}#sk-container-id-2 input.sk-hidden--visually {border: 0;clip: rect(1px 1px 1px 1px);clip: rect(1px, 1px, 1px, 1px);height: 1px;margin: -1px;overflow: hidden;padding: 0;position: absolute;width: 1px;}#sk-container-id-2 div.sk-estimator {font-family: monospace;background-color: #f0f8ff;border: 1px dotted black;border-radius: 0.25em;box-sizing: border-box;margin-bottom: 0.5em;}#sk-container-id-2 div.sk-estimator:hover {background-color: #d4ebff;}#sk-container-id-2 div.sk-parallel-item::after {content: \"\";width: 100%;border-bottom: 1px solid gray;flex-grow: 1;}#sk-container-id-2 div.sk-label:hover label.sk-toggleable__label {background-color: #d4ebff;}#sk-container-id-2 div.sk-serial::before {content: \"\";position: absolute;border-left: 1px solid gray;box-sizing: border-box;top: 0;bottom: 0;left: 50%;z-index: 0;}#sk-container-id-2 div.sk-serial {display: flex;flex-direction: column;align-items: center;background-color: white;padding-right: 0.2em;padding-left: 0.2em;position: relative;}#sk-container-id-2 div.sk-item {position: relative;z-index: 1;}#sk-container-id-2 div.sk-parallel {display: flex;align-items: stretch;justify-content: center;background-color: white;position: relative;}#sk-container-id-2 div.sk-item::before, #sk-container-id-2 div.sk-parallel-item::before {content: \"\";position: absolute;border-left: 1px solid gray;box-sizing: border-box;top: 0;bottom: 0;left: 50%;z-index: -1;}#sk-container-id-2 div.sk-parallel-item {display: flex;flex-direction: column;z-index: 1;position: relative;background-color: white;}#sk-container-id-2 div.sk-parallel-item:first-child::after {align-self: flex-end;width: 50%;}#sk-container-id-2 div.sk-parallel-item:last-child::after {align-self: flex-start;width: 50%;}#sk-container-id-2 div.sk-parallel-item:only-child::after {width: 0;}#sk-container-id-2 div.sk-dashed-wrapped {border: 1px dashed gray;margin: 0 0.4em 0.5em 0.4em;box-sizing: border-box;padding-bottom: 0.4em;background-color: white;}#sk-container-id-2 div.sk-label label {font-family: monospace;font-weight: bold;display: inline-block;line-height: 1.2em;}#sk-container-id-2 div.sk-label-container {text-align: center;}#sk-container-id-2 div.sk-container {/* jupyter's `normalize.less` sets `[hidden] { display: none; }` but bootstrap.min.css set `[hidden] { display: none !important; }` so we also need the `!important` here to be able to override the default hidden behavior on the sphinx rendered scikit-learn.org. See: https://github.com/scikit-learn/scikit-learn/issues/21755 */display: inline-block !important;position: relative;}#sk-container-id-2 div.sk-text-repr-fallback {display: none;}</style><div id=\"sk-container-id-2\" class=\"sk-top-container\"><div class=\"sk-text-repr-fallback\"><pre>DecisionTreeClassifier()</pre><b>In a Jupyter environment, please rerun this cell to show the HTML representation or trust the notebook. <br />On GitHub, the HTML representation is unable to render, please try loading this page with nbviewer.org.</b></div><div class=\"sk-container\" hidden><div class=\"sk-item\"><div class=\"sk-estimator sk-toggleable\"><input class=\"sk-toggleable__control sk-hidden--visually\" id=\"sk-estimator-id-2\" type=\"checkbox\" checked><label for=\"sk-estimator-id-2\" class=\"sk-toggleable__label sk-toggleable__label-arrow\">DecisionTreeClassifier</label><div class=\"sk-toggleable__content\"><pre>DecisionTreeClassifier()</pre></div></div></div></div></div>"
            ]
          },
          "metadata": {},
          "execution_count": 30
        }
      ],
      "source": [
        "#train the model\n",
        "clf = DecisionTreeClassifier()\n",
        "clf.fit(X_train, y_train)"
      ]
    },
    {
      "cell_type": "code",
      "execution_count": null,
      "id": "06466c3b",
      "metadata": {
        "execution": {
          "iopub.execute_input": "2024-05-08T18:33:37.515125Z",
          "iopub.status.busy": "2024-05-08T18:33:37.513968Z",
          "iopub.status.idle": "2024-05-08T18:33:38.005171Z",
          "shell.execute_reply": "2024-05-08T18:33:38.004035Z"
        },
        "papermill": {
          "duration": 0.506813,
          "end_time": "2024-05-08T18:33:38.008173",
          "exception": false,
          "start_time": "2024-05-08T18:33:37.501360",
          "status": "completed"
        },
        "tags": [],
        "colab": {
          "base_uri": "https://localhost:8080/"
        },
        "id": "06466c3b",
        "outputId": "b0ef3ffb-576b-4b66-f632-164abfe548e6"
      },
      "outputs": [
        {
          "output_type": "stream",
          "name": "stdout",
          "text": [
            "Validation Report:\n",
            "                    precision    recall  f1-score   support\n",
            "\n",
            "       Hate Speech       0.38      0.38      0.38       288\n",
            "Offensive Language       0.79      0.84      0.81       814\n",
            "            Normal       0.93      0.92      0.92      3855\n",
            "\n",
            "          accuracy                           0.87      4957\n",
            "         macro avg       0.70      0.71      0.70      4957\n",
            "      weighted avg       0.88      0.87      0.87      4957\n",
            "\n",
            "Test Report:\n",
            "                    precision    recall  f1-score   support\n",
            "\n",
            "       Hate Speech       0.36      0.34      0.35       290\n",
            "Offensive Language       0.80      0.84      0.82       835\n",
            "            Normal       0.93      0.92      0.92      3832\n",
            "\n",
            "          accuracy                           0.87      4957\n",
            "         macro avg       0.70      0.70      0.70      4957\n",
            "      weighted avg       0.87      0.87      0.87      4957\n",
            "\n"
          ]
        }
      ],
      "source": [
        "# Evaluate on validation set\n",
        "from sklearn.metrics import classification_report\n",
        "y_pred = clf.predict(X_val)\n",
        "print(\"Validation Report:\")\n",
        "print(classification_report(y_val, y_pred, target_names=['Hate Speech', 'Offensive Language', 'Normal']))\n",
        "\n",
        "# Evaluate on test set\n",
        "y_pred = clf.predict(X_test)\n",
        "print(\"Test Report:\")\n",
        "print(classification_report(y_test, y_pred, target_names=['Hate Speech', 'Offensive Language', 'Normal']))"
      ]
    },
    {
      "cell_type": "markdown",
      "id": "1422a5d4",
      "metadata": {
        "papermill": {
          "duration": 0.010979,
          "end_time": "2024-05-08T18:33:38.051545",
          "exception": false,
          "start_time": "2024-05-08T18:33:38.040566",
          "status": "completed"
        },
        "tags": [],
        "id": "1422a5d4"
      },
      "source": [
        "# <span style=\"font-family:Verdana; color:green; font-size:26px; font-weight:bold; font-style:italic;\">7. Validate The Dataset</span>"
      ]
    },
    {
      "cell_type": "code",
      "execution_count": null,
      "id": "143006d5",
      "metadata": {
        "execution": {
          "iopub.execute_input": "2024-05-08T18:33:38.074383Z",
          "iopub.status.busy": "2024-05-08T18:33:38.073979Z",
          "iopub.status.idle": "2024-05-08T18:33:38.082186Z",
          "shell.execute_reply": "2024-05-08T18:33:38.081047Z"
        },
        "papermill": {
          "duration": 0.022169,
          "end_time": "2024-05-08T18:33:38.084325",
          "exception": false,
          "start_time": "2024-05-08T18:33:38.062156",
          "status": "completed"
        },
        "tags": [],
        "colab": {
          "base_uri": "https://localhost:8080/"
        },
        "id": "143006d5",
        "outputId": "672841ae-d651-4a3d-e7c9-b584ec1094af"
      },
      "outputs": [
        {
          "output_type": "stream",
          "name": "stdout",
          "text": [
            "Prediction for sample text 'nigga': Offensive Language\n"
          ]
        }
      ],
      "source": [
        "# Load the text sample\n",
        "sample = 'nigga' # test with for instance: kill, dog, idiot, hello\n",
        "\n",
        "# Preprocess the sample text\n",
        "sample_processed = clean(sample)\n",
        "\n",
        "# Vectorize the preprocessed sample text\n",
        "sample_vector = cv.transform([sample_processed])\n",
        "\n",
        "# Predict the label for the sample text\n",
        "sample_prediction = clf.predict(sample_vector)\n",
        "\n",
        "print(\"Prediction for sample text '{}': {}\".format(sample, sample_prediction[0]))"
      ]
    }
  ],
  "metadata": {
    "kaggle": {
      "accelerator": "none",
      "dataSources": [
        {
          "datasetId": 4967053,
          "sourceId": 8358352,
          "sourceType": "datasetVersion"
        }
      ],
      "dockerImageVersionId": 30615,
      "isGpuEnabled": false,
      "isInternetEnabled": true,
      "language": "python",
      "sourceType": "notebook"
    },
    "kernelspec": {
      "display_name": "Python 3",
      "language": "python",
      "name": "python3"
    },
    "language_info": {
      "codemirror_mode": {
        "name": "ipython",
        "version": 3
      },
      "file_extension": ".py",
      "mimetype": "text/x-python",
      "name": "python",
      "nbconvert_exporter": "python",
      "pygments_lexer": "ipython3",
      "version": "3.10.12"
    },
    "papermill": {
      "default_parameters": {},
      "duration": 20.163457,
      "end_time": "2024-05-08T18:33:38.758148",
      "environment_variables": {},
      "exception": null,
      "input_path": "__notebook__.ipynb",
      "output_path": "__notebook__.ipynb",
      "parameters": {},
      "start_time": "2024-05-08T18:33:18.594691",
      "version": "2.4.0"
    },
    "colab": {
      "provenance": []
    }
  },
  "nbformat": 4,
  "nbformat_minor": 5
}